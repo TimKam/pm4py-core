{
 "cells": [
  {
   "cell_type": "code",
   "execution_count": 1,
   "metadata": {},
   "outputs": [],
   "source": [
    "import pm4py"
   ]
  },
  {
   "cell_type": "code",
   "execution_count": 2,
   "metadata": {},
   "outputs": [
    {
     "data": {
      "application/vnd.jupyter.widget-view+json": {
       "model_id": "7f1bdc0130f345d68158f7116c4b467e",
       "version_major": 2,
       "version_minor": 0
      },
      "text/plain": [
       "parsing log, completed traces ::   0%|          | 0/100 [00:00<?, ?it/s]"
      ]
     },
     "metadata": {},
     "output_type": "display_data"
    },
    {
     "name": "stdout",
     "output_type": "stream",
     "text": [
      " Type of the file that is read : <class 'pandas.core.frame.DataFrame'>\n",
      " Length of the file that is read : 590\n"
     ]
    }
   ],
   "source": [
    "import pandas as pd\n",
    "import numpy as np\n",
    "import pm4py\n",
    "import os\n",
    "\n",
    "path_loan = \"C:/Users/harleenkaur/Documents/thesis/event logs/Artificial - Loan Process.xes\"\n",
    "log = pm4py.read_xes(path_loan)\n",
    "print(f\" Type of the file that is read : {type(log)}\")\n",
    "print(f\" Length of the file that is read : {len(log)}\")"
   ]
  },
  {
   "cell_type": "code",
   "execution_count": 4,
   "metadata": {},
   "outputs": [
    {
     "data": {
      "text/html": [
       "<div>\n",
       "<style scoped>\n",
       "    .dataframe tbody tr th:only-of-type {\n",
       "        vertical-align: middle;\n",
       "    }\n",
       "\n",
       "    .dataframe tbody tr th {\n",
       "        vertical-align: top;\n",
       "    }\n",
       "\n",
       "    .dataframe thead th {\n",
       "        text-align: right;\n",
       "    }\n",
       "</style>\n",
       "<table border=\"1\" class=\"dataframe\">\n",
       "  <thead>\n",
       "    <tr style=\"text-align: right;\">\n",
       "      <th></th>\n",
       "      <th>time:timestamp</th>\n",
       "      <th>concept:name</th>\n",
       "      <th>lifecycle:transition</th>\n",
       "      <th>case:concept:name</th>\n",
       "    </tr>\n",
       "  </thead>\n",
       "  <tbody>\n",
       "    <tr>\n",
       "      <th>0</th>\n",
       "      <td>2013-04-16 10:08:01.821000+02:00</td>\n",
       "      <td>register application</td>\n",
       "      <td>complete</td>\n",
       "      <td>trace 0</td>\n",
       "    </tr>\n",
       "    <tr>\n",
       "      <th>1</th>\n",
       "      <td>2013-04-16 10:16:02.889000+02:00</td>\n",
       "      <td>check credit</td>\n",
       "      <td>complete</td>\n",
       "      <td>trace 0</td>\n",
       "    </tr>\n",
       "    <tr>\n",
       "      <th>2</th>\n",
       "      <td>2013-04-16 10:16:27.858000+02:00</td>\n",
       "      <td>calculate capacity</td>\n",
       "      <td>complete</td>\n",
       "      <td>trace 0</td>\n",
       "    </tr>\n",
       "    <tr>\n",
       "      <th>3</th>\n",
       "      <td>2013-04-16 10:20:25.117000+02:00</td>\n",
       "      <td>check system</td>\n",
       "      <td>complete</td>\n",
       "      <td>trace 0</td>\n",
       "    </tr>\n",
       "    <tr>\n",
       "      <th>4</th>\n",
       "      <td>2013-04-16 10:21:29.939000+02:00</td>\n",
       "      <td>accept</td>\n",
       "      <td>complete</td>\n",
       "      <td>trace 0</td>\n",
       "    </tr>\n",
       "  </tbody>\n",
       "</table>\n",
       "</div>"
      ],
      "text/plain": [
       "                    time:timestamp          concept:name lifecycle:transition  \\\n",
       "0 2013-04-16 10:08:01.821000+02:00  register application             complete   \n",
       "1 2013-04-16 10:16:02.889000+02:00          check credit             complete   \n",
       "2 2013-04-16 10:16:27.858000+02:00    calculate capacity             complete   \n",
       "3 2013-04-16 10:20:25.117000+02:00          check system             complete   \n",
       "4 2013-04-16 10:21:29.939000+02:00                accept             complete   \n",
       "\n",
       "  case:concept:name  \n",
       "0           trace 0  \n",
       "1           trace 0  \n",
       "2           trace 0  \n",
       "3           trace 0  \n",
       "4           trace 0  "
      ]
     },
     "execution_count": 4,
     "metadata": {},
     "output_type": "execute_result"
    }
   ],
   "source": [
    "log.head()"
   ]
  },
  {
   "cell_type": "code",
   "execution_count": 5,
   "metadata": {},
   "outputs": [
    {
     "name": "stdout",
     "output_type": "stream",
     "text": [
      "Start activities: {'register application': 100}\n",
      "End activities: {'send decision e-mail': 100}\n"
     ]
    }
   ],
   "source": [
    "start_activities = pm4py.get_start_activities(log)\n",
    "end_activities = pm4py.get_end_activities(log)\n",
    "print(\"Start activities: {}\\nEnd activities: {}\".format(start_activities, end_activities))"
   ]
  },
  {
   "cell_type": "code",
   "execution_count": 6,
   "metadata": {},
   "outputs": [
    {
     "name": "stdout",
     "output_type": "stream",
     "text": [
      "('accept', 'send decision e-mail') 20\n",
      "('calculate capacity', 'accept') 13\n",
      "('calculate capacity', 'check credit') 6\n",
      "('calculate capacity', 'check system') 46\n",
      "('calculate capacity', 'reject') 35\n",
      "('check credit', 'accept') 1\n",
      "('check credit', 'calculate capacity') 54\n",
      "('check credit', 'check system') 38\n",
      "('check credit', 'reject') 7\n",
      "('check system', 'accept') 6\n",
      "('check system', 'calculate capacity') 42\n",
      "('check system', 'check credit') 4\n",
      "('check system', 'reject') 38\n",
      "('register application', 'calculate capacity') 4\n",
      "('register application', 'check credit') 90\n",
      "('register application', 'check system') 6\n",
      "('reject', 'send decision e-mail') 80\n"
     ]
    }
   ],
   "source": [
    "dfg, start_activities, end_activities = pm4py.discover_dfg_typed(log) \n",
    "for item, key in dfg.items():\n",
    "    print(item, key)\n"
   ]
  },
  {
   "cell_type": "code",
   "execution_count": null,
   "metadata": {},
   "outputs": [],
   "source": []
  },
  {
   "cell_type": "markdown",
   "metadata": {},
   "source": [
    "## Visualising the DFG"
   ]
  },
  {
   "cell_type": "code",
   "execution_count": 7,
   "metadata": {},
   "outputs": [
    {
     "data": {
      "image/png": "[encoded data removed]",
      "text/plain": [
       "<IPython.core.display.Image object>"
      ]
     },
     "metadata": {},
     "output_type": "display_data"
    }
   ],
   "source": [
    "#pm4py.vis.view_dfg(dfg, start_activities, end_activities)  \n",
    "pm4py.view_dfg(dfg,start_activities, end_activities)"
   ]
  },
  {
   "cell_type": "markdown",
   "metadata": {},
   "source": [
    "### Visualising heuristic net"
   ]
  },
  {
   "cell_type": "code",
   "execution_count": 8,
   "metadata": {},
   "outputs": [
    {
     "data": {
      "image/png": "[encoded data removed]",
      "text/plain": [
       "<IPython.core.display.Image object>"
      ]
     },
     "metadata": {},
     "output_type": "display_data"
    }
   ],
   "source": [
    "map = pm4py.discover_heuristics_net(log)\n",
    "pm4py.view_heuristics_net(map)"
   ]
  },
  {
   "cell_type": "markdown",
   "metadata": {},
   "source": [
    "### Visualise performance dfg"
   ]
  },
  {
   "cell_type": "code",
   "execution_count": 9,
   "metadata": {},
   "outputs": [
    {
     "data": {
      "image/png": "[encoded data removed]",
      "text/plain": [
       "<IPython.core.display.Image object>"
      ]
     },
     "metadata": {},
     "output_type": "display_data"
    }
   ],
   "source": [
    "performance_dfg, start_activities, end_activities = pm4py.discover_performance_dfg(log)\n",
    "pm4py.view_performance_dfg(performance_dfg, start_activities, end_activities)"
   ]
  },
  {
   "cell_type": "markdown",
   "metadata": {},
   "source": [
    "## Calculate average time between start_event and end_event for trace 0"
   ]
  },
  {
   "cell_type": "code",
   "execution_count": 10,
   "metadata": {},
   "outputs": [],
   "source": [
    "#log"
   ]
  },
  {
   "cell_type": "code",
   "execution_count": 11,
   "metadata": {},
   "outputs": [
    {
     "data": {
      "text/html": [
       "<div>\n",
       "<style scoped>\n",
       "    .dataframe tbody tr th:only-of-type {\n",
       "        vertical-align: middle;\n",
       "    }\n",
       "\n",
       "    .dataframe tbody tr th {\n",
       "        vertical-align: top;\n",
       "    }\n",
       "\n",
       "    .dataframe thead th {\n",
       "        text-align: right;\n",
       "    }\n",
       "</style>\n",
       "<table border=\"1\" class=\"dataframe\">\n",
       "  <thead>\n",
       "    <tr style=\"text-align: right;\">\n",
       "      <th></th>\n",
       "      <th>time:timestamp</th>\n",
       "      <th>concept:name</th>\n",
       "      <th>lifecycle:transition</th>\n",
       "      <th>case:concept:name</th>\n",
       "      <th>start_timestamp</th>\n",
       "    </tr>\n",
       "  </thead>\n",
       "  <tbody>\n",
       "    <tr>\n",
       "      <th>0</th>\n",
       "      <td>2013-04-16 10:08:01.821000+02:00</td>\n",
       "      <td>register application</td>\n",
       "      <td>complete</td>\n",
       "      <td>trace 0</td>\n",
       "      <td>2013-04-16 10:08:01.821000+02:00</td>\n",
       "    </tr>\n",
       "    <tr>\n",
       "      <th>1</th>\n",
       "      <td>2013-04-16 10:16:02.889000+02:00</td>\n",
       "      <td>check credit</td>\n",
       "      <td>complete</td>\n",
       "      <td>trace 0</td>\n",
       "      <td>2013-04-16 10:16:02.889000+02:00</td>\n",
       "    </tr>\n",
       "    <tr>\n",
       "      <th>2</th>\n",
       "      <td>2013-04-16 10:16:27.858000+02:00</td>\n",
       "      <td>calculate capacity</td>\n",
       "      <td>complete</td>\n",
       "      <td>trace 0</td>\n",
       "      <td>2013-04-16 10:16:27.858000+02:00</td>\n",
       "    </tr>\n",
       "    <tr>\n",
       "      <th>3</th>\n",
       "      <td>2013-04-16 10:20:25.117000+02:00</td>\n",
       "      <td>check system</td>\n",
       "      <td>complete</td>\n",
       "      <td>trace 0</td>\n",
       "      <td>2013-04-16 10:20:25.117000+02:00</td>\n",
       "    </tr>\n",
       "    <tr>\n",
       "      <th>4</th>\n",
       "      <td>2013-04-16 10:21:29.939000+02:00</td>\n",
       "      <td>accept</td>\n",
       "      <td>complete</td>\n",
       "      <td>trace 0</td>\n",
       "      <td>2013-04-16 10:21:29.939000+02:00</td>\n",
       "    </tr>\n",
       "    <tr>\n",
       "      <th>5</th>\n",
       "      <td>2013-04-16 10:26:53.166000+02:00</td>\n",
       "      <td>send decision e-mail</td>\n",
       "      <td>complete</td>\n",
       "      <td>trace 0</td>\n",
       "      <td>2013-04-16 10:26:53.166000+02:00</td>\n",
       "    </tr>\n",
       "  </tbody>\n",
       "</table>\n",
       "</div>"
      ],
      "text/plain": [
       "                    time:timestamp          concept:name lifecycle:transition  \\\n",
       "0 2013-04-16 10:08:01.821000+02:00  register application             complete   \n",
       "1 2013-04-16 10:16:02.889000+02:00          check credit             complete   \n",
       "2 2013-04-16 10:16:27.858000+02:00    calculate capacity             complete   \n",
       "3 2013-04-16 10:20:25.117000+02:00          check system             complete   \n",
       "4 2013-04-16 10:21:29.939000+02:00                accept             complete   \n",
       "5 2013-04-16 10:26:53.166000+02:00  send decision e-mail             complete   \n",
       "\n",
       "  case:concept:name                  start_timestamp  \n",
       "0           trace 0 2013-04-16 10:08:01.821000+02:00  \n",
       "1           trace 0 2013-04-16 10:16:02.889000+02:00  \n",
       "2           trace 0 2013-04-16 10:16:27.858000+02:00  \n",
       "3           trace 0 2013-04-16 10:20:25.117000+02:00  \n",
       "4           trace 0 2013-04-16 10:21:29.939000+02:00  \n",
       "5           trace 0 2013-04-16 10:26:53.166000+02:00  "
      ]
     },
     "execution_count": 11,
     "metadata": {},
     "output_type": "execute_result"
    }
   ],
   "source": [
    "trace0 = log[log['case:concept:name'] == 'trace 0']\n",
    "trace0"
   ]
  },
  {
   "cell_type": "code",
   "execution_count": 12,
   "metadata": {},
   "outputs": [],
   "source": [
    "from datetime import datetime"
   ]
  },
  {
   "cell_type": "code",
   "execution_count": 13,
   "metadata": {},
   "outputs": [
    {
     "data": {
      "text/plain": [
       "datetime.time(10, 10, 1, 759000)"
      ]
     },
     "execution_count": 13,
     "metadata": {},
     "output_type": "execute_result"
    }
   ],
   "source": [
    "dt = datetime.strptime('2013-04-16 10:10:01.759000+02:00', \"%Y-%m-%d %H:%M:%S.%f%z\")\n",
    "date = dt.date()\n",
    "time = dt.time()\n",
    "time"
   ]
  },
  {
   "cell_type": "code",
   "execution_count": 14,
   "metadata": {},
   "outputs": [
    {
     "name": "stdout",
     "output_type": "stream",
     "text": [
      "2013-04-16 10:08:01.821000+02:00\n",
      "2013-04-16 10:26:53.166000+02:00\n"
     ]
    },
    {
     "data": {
      "text/plain": [
       "datetime.time(10, 26, 53, 166000)"
      ]
     },
     "execution_count": 14,
     "metadata": {},
     "output_type": "execute_result"
    }
   ],
   "source": [
    "#get the start activity's name from start_activites dictionary \n",
    "start_activity =\"\"\n",
    "for key, value in start_activities.items():\n",
    "    start_activity = key\n",
    "#print(start_activity)\n",
    "\n",
    "#get the date and time of the start activity \n",
    "preprocess = trace0[trace0['concept:name'] == start_activity]\n",
    "start_dt_string = str(preprocess['time:timestamp'].iloc[0])\n",
    "print(start_dt_string)\n",
    "\n",
    "#convert the value from df to datetime \n",
    "start_dt =  datetime.strptime(start_dt_string, \"%Y-%m-%d %H:%M:%S.%f%z\")\n",
    "start_dt_time = start_dt.time()\n",
    "start_dt_time \n",
    "\n",
    "\n",
    "#get the date and time of end activity \n",
    "#get the start activity's name from start_activites dictionary \n",
    "end_activity =\"\"\n",
    "for key, value in end_activities.items():\n",
    "    end_activity = key\n",
    "#print(end_activity)\n",
    "\n",
    "#get the date and time of the end activity \n",
    "preprocess = trace0[trace0['concept:name'] == end_activity]\n",
    "end_dt_string = str(preprocess['time:timestamp'].iloc[0])\n",
    "print(end_dt_string)\n",
    "\n",
    "#convert the value from df to datetime \n",
    "end_dt =  datetime.strptime(end_dt_string, \"%Y-%m-%d %H:%M:%S.%f%z\")\n",
    "end_dt_time = end_dt.time()\n",
    "end_dt_time"
   ]
  },
  {
   "cell_type": "code",
   "execution_count": 15,
   "metadata": {},
   "outputs": [
    {
     "data": {
      "text/plain": [
       "18.85"
      ]
     },
     "execution_count": 15,
     "metadata": {},
     "output_type": "execute_result"
    }
   ],
   "source": [
    "#calculate delta time of a case\n",
    "#from datetime import timedelta\n",
    "timedelta = end_dt - start_dt\n",
    "minutes = timedelta.seconds / 60\n",
    "minutes"
   ]
  },
  {
   "cell_type": "markdown",
   "metadata": {},
   "source": [
    "# Calculate average time between start_event and end_event for all cases"
   ]
  },
  {
   "cell_type": "code",
   "execution_count": 16,
   "metadata": {},
   "outputs": [
    {
     "data": {
      "text/html": [
       "<div>\n",
       "<style scoped>\n",
       "    .dataframe tbody tr th:only-of-type {\n",
       "        vertical-align: middle;\n",
       "    }\n",
       "\n",
       "    .dataframe tbody tr th {\n",
       "        vertical-align: top;\n",
       "    }\n",
       "\n",
       "    .dataframe thead th {\n",
       "        text-align: right;\n",
       "    }\n",
       "</style>\n",
       "<table border=\"1\" class=\"dataframe\">\n",
       "  <thead>\n",
       "    <tr style=\"text-align: right;\">\n",
       "      <th></th>\n",
       "      <th>time:timestamp</th>\n",
       "      <th>concept:name</th>\n",
       "      <th>lifecycle:transition</th>\n",
       "      <th>case:concept:name</th>\n",
       "      <th>start_timestamp</th>\n",
       "    </tr>\n",
       "  </thead>\n",
       "  <tbody>\n",
       "    <tr>\n",
       "      <th>0</th>\n",
       "      <td>2013-04-16 10:08:01.821000+02:00</td>\n",
       "      <td>register application</td>\n",
       "      <td>complete</td>\n",
       "      <td>trace 0</td>\n",
       "      <td>2013-04-16 10:08:01.821000+02:00</td>\n",
       "    </tr>\n",
       "    <tr>\n",
       "      <th>1</th>\n",
       "      <td>2013-04-16 10:16:02.889000+02:00</td>\n",
       "      <td>check credit</td>\n",
       "      <td>complete</td>\n",
       "      <td>trace 0</td>\n",
       "      <td>2013-04-16 10:16:02.889000+02:00</td>\n",
       "    </tr>\n",
       "    <tr>\n",
       "      <th>2</th>\n",
       "      <td>2013-04-16 10:16:27.858000+02:00</td>\n",
       "      <td>calculate capacity</td>\n",
       "      <td>complete</td>\n",
       "      <td>trace 0</td>\n",
       "      <td>2013-04-16 10:16:27.858000+02:00</td>\n",
       "    </tr>\n",
       "    <tr>\n",
       "      <th>3</th>\n",
       "      <td>2013-04-16 10:20:25.117000+02:00</td>\n",
       "      <td>check system</td>\n",
       "      <td>complete</td>\n",
       "      <td>trace 0</td>\n",
       "      <td>2013-04-16 10:20:25.117000+02:00</td>\n",
       "    </tr>\n",
       "    <tr>\n",
       "      <th>4</th>\n",
       "      <td>2013-04-16 10:21:29.939000+02:00</td>\n",
       "      <td>accept</td>\n",
       "      <td>complete</td>\n",
       "      <td>trace 0</td>\n",
       "      <td>2013-04-16 10:21:29.939000+02:00</td>\n",
       "    </tr>\n",
       "  </tbody>\n",
       "</table>\n",
       "</div>"
      ],
      "text/plain": [
       "                    time:timestamp          concept:name lifecycle:transition  \\\n",
       "0 2013-04-16 10:08:01.821000+02:00  register application             complete   \n",
       "1 2013-04-16 10:16:02.889000+02:00          check credit             complete   \n",
       "2 2013-04-16 10:16:27.858000+02:00    calculate capacity             complete   \n",
       "3 2013-04-16 10:20:25.117000+02:00          check system             complete   \n",
       "4 2013-04-16 10:21:29.939000+02:00                accept             complete   \n",
       "\n",
       "  case:concept:name                  start_timestamp  \n",
       "0           trace 0 2013-04-16 10:08:01.821000+02:00  \n",
       "1           trace 0 2013-04-16 10:16:02.889000+02:00  \n",
       "2           trace 0 2013-04-16 10:16:27.858000+02:00  \n",
       "3           trace 0 2013-04-16 10:20:25.117000+02:00  \n",
       "4           trace 0 2013-04-16 10:21:29.939000+02:00  "
      ]
     },
     "execution_count": 16,
     "metadata": {},
     "output_type": "execute_result"
    }
   ],
   "source": [
    "log.head()"
   ]
  },
  {
   "cell_type": "markdown",
   "metadata": {},
   "source": [
    "Get the total number of cases first. Then loop through each case and find the time delta of that case. Keep appending the time delta of the case to a list. At the end of the loop, calculate the average time duration taken by the activities from start to end. "
   ]
  },
  {
   "cell_type": "code",
   "execution_count": 17,
   "metadata": {},
   "outputs": [],
   "source": [
    "all_cases = np.unique(log['case:concept:name'])\n",
    "total_number_of_cases = len(set(log['case:concept:name']))"
   ]
  },
  {
   "cell_type": "markdown",
   "metadata": {},
   "source": [
    "For each case, create a subset DataFrame having only that particular concept name "
   ]
  },
  {
   "cell_type": "code",
   "execution_count": 18,
   "metadata": {},
   "outputs": [],
   "source": [
    "time_delta_list = []\n",
    "for case in all_cases:\n",
    "    current_trace =  log[log['case:concept:name'] == case]\n",
    "#    print(current_trace)\n",
    "    \n",
    "    #calculate the time delta\n",
    "    #get the start activity's name from start_activites dictionary \n",
    "    start_activity =\"\"\n",
    "    for key, value in start_activities.items():\n",
    "        start_activity = key\n",
    "    #print(start_activity)\n",
    "\n",
    "    #get the date and time of the start activity \n",
    "    preprocess = current_trace[current_trace['concept:name'] == start_activity]\n",
    "    start_dt_string = str(preprocess['time:timestamp'].iloc[0])\n",
    "    #print(start_dt_string)\n",
    "\n",
    "    #convert the value from df to datetime \n",
    "    start_dt =  datetime.strptime(start_dt_string, \"%Y-%m-%d %H:%M:%S.%f%z\")\n",
    "    start_dt_time = start_dt.time()\n",
    "    start_dt_time \n",
    "\n",
    "\n",
    "    #get the date and time of end activity \n",
    "    #get the start activity's name from start_activites dictionary \n",
    "    end_activity =\"\"\n",
    "    for key, value in end_activities.items():\n",
    "        end_activity = key\n",
    "    #print(end_activity)\n",
    "\n",
    "    #get the date and time of the end activity \n",
    "    preprocess = current_trace[current_trace['concept:name'] == end_activity]\n",
    "    end_dt_string = str(preprocess['time:timestamp'].iloc[0])\n",
    "    #print(end_dt_string)\n",
    "\n",
    "    #convert the value from df to datetime \n",
    "    try:\n",
    "        end_dt =  datetime.strptime(end_dt_string, \"%Y-%m-%d %H:%M:%S.%f%z\")\n",
    "        end_dt_time = end_dt.time()\n",
    "    except:\n",
    "        #print(current_trace)\n",
    "        #print('there is an error')\n",
    "        end_dt =  datetime.strptime(end_dt_string, \"%Y-%m-%d %H:%M:%S%z\")\n",
    "        end_dt_time = end_dt.time()\n",
    "        #print(end_dt_time)\n",
    "        \n",
    "        \n",
    "    #calculate delta time of a case\n",
    "    #from datetime import timedelta\n",
    "    timedelta = end_dt - start_dt\n",
    "    minutes = timedelta.seconds / 60\n",
    "    minutes\n",
    "    \n",
    "    #append the timedelta minutes to list\n",
    "    time_delta_list.append(timedelta)"
   ]
  },
  {
   "cell_type": "code",
   "execution_count": 19,
   "metadata": {},
   "outputs": [],
   "source": [
    "#time_delta_list"
   ]
  },
  {
   "cell_type": "code",
   "execution_count": 20,
   "metadata": {},
   "outputs": [
    {
     "name": "stdout",
     "output_type": "stream",
     "text": [
      "145443.65900000004\n"
     ]
    },
    {
     "data": {
      "text/plain": [
       "24.24060983333334"
      ]
     },
     "execution_count": 20,
     "metadata": {},
     "output_type": "execute_result"
    }
   ],
   "source": [
    "#sum all seconds and microseconds in time_delta_list\n",
    "sum_time = 0\n",
    "for element in time_delta_list:\n",
    "    microsecond_to_second = element.microseconds / 1000000\n",
    "    seconds_plus_microseconds = element.seconds + microsecond_to_second\n",
    "    sum_time += seconds_plus_microseconds\n",
    "    #print(seconds_plus_microseconds)\n",
    "\n",
    "#take the average\n",
    "print(sum_time)\n",
    "average_start_end = sum_time / total_number_of_cases \n",
    "average_start_end_minutes = average_start_end / 60 \n",
    "average_start_end_minutes"
   ]
  },
  {
   "cell_type": "markdown",
   "metadata": {},
   "source": [
    "# Calculating duration window ('Task Duration') for each activity "
   ]
  },
  {
   "cell_type": "markdown",
   "metadata": {},
   "source": [
    "The time between start and end events of a single task is called task duration\n",
    "the time between start events of two subsequent tasks is called temporal distance).\n",
    "For each activity, I will calculate the time range in which that activity usually occurs. "
   ]
  },
  {
   "cell_type": "code",
   "execution_count": 21,
   "metadata": {},
   "outputs": [],
   "source": [
    "all_activities = np.unique(log['concept:name'])\n",
    "total_number_of_activities = len(set(log['concept:name']))"
   ]
  },
  {
   "cell_type": "code",
   "execution_count": 22,
   "metadata": {},
   "outputs": [
    {
     "data": {
      "text/html": [
       "<div>\n",
       "<style scoped>\n",
       "    .dataframe tbody tr th:only-of-type {\n",
       "        vertical-align: middle;\n",
       "    }\n",
       "\n",
       "    .dataframe tbody tr th {\n",
       "        vertical-align: top;\n",
       "    }\n",
       "\n",
       "    .dataframe thead th {\n",
       "        text-align: right;\n",
       "    }\n",
       "</style>\n",
       "<table border=\"1\" class=\"dataframe\">\n",
       "  <thead>\n",
       "    <tr style=\"text-align: right;\">\n",
       "      <th></th>\n",
       "      <th>time:timestamp</th>\n",
       "      <th>concept:name</th>\n",
       "      <th>lifecycle:transition</th>\n",
       "      <th>case:concept:name</th>\n",
       "      <th>start_timestamp</th>\n",
       "    </tr>\n",
       "  </thead>\n",
       "  <tbody>\n",
       "    <tr>\n",
       "      <th>1</th>\n",
       "      <td>2013-04-16 10:16:02.889000+02:00</td>\n",
       "      <td>check credit</td>\n",
       "      <td>complete</td>\n",
       "      <td>trace 0</td>\n",
       "      <td>2013-04-16 10:16:02.889000+02:00</td>\n",
       "    </tr>\n",
       "    <tr>\n",
       "      <th>7</th>\n",
       "      <td>2013-04-16 10:16:06.994000+02:00</td>\n",
       "      <td>check credit</td>\n",
       "      <td>complete</td>\n",
       "      <td>trace 1</td>\n",
       "      <td>2013-04-16 10:16:06.994000+02:00</td>\n",
       "    </tr>\n",
       "    <tr>\n",
       "      <th>13</th>\n",
       "      <td>2013-04-16 10:22:41.437000+02:00</td>\n",
       "      <td>check credit</td>\n",
       "      <td>complete</td>\n",
       "      <td>trace 2</td>\n",
       "      <td>2013-04-16 10:22:41.437000+02:00</td>\n",
       "    </tr>\n",
       "    <tr>\n",
       "      <th>19</th>\n",
       "      <td>2013-04-16 10:23:07.051000+02:00</td>\n",
       "      <td>check credit</td>\n",
       "      <td>complete</td>\n",
       "      <td>trace 3</td>\n",
       "      <td>2013-04-16 10:23:07.051000+02:00</td>\n",
       "    </tr>\n",
       "    <tr>\n",
       "      <th>25</th>\n",
       "      <td>2013-04-16 10:32:07.886000+02:00</td>\n",
       "      <td>check credit</td>\n",
       "      <td>complete</td>\n",
       "      <td>trace 4</td>\n",
       "      <td>2013-04-16 10:32:07.886000+02:00</td>\n",
       "    </tr>\n",
       "    <tr>\n",
       "      <th>...</th>\n",
       "      <td>...</td>\n",
       "      <td>...</td>\n",
       "      <td>...</td>\n",
       "      <td>...</td>\n",
       "      <td>...</td>\n",
       "    </tr>\n",
       "    <tr>\n",
       "      <th>564</th>\n",
       "      <td>2013-04-16 18:17:33.528000+02:00</td>\n",
       "      <td>check credit</td>\n",
       "      <td>complete</td>\n",
       "      <td>trace 95</td>\n",
       "      <td>2013-04-16 18:17:33.528000+02:00</td>\n",
       "    </tr>\n",
       "    <tr>\n",
       "      <th>570</th>\n",
       "      <td>2013-04-16 18:33:54.811000+02:00</td>\n",
       "      <td>check credit</td>\n",
       "      <td>complete</td>\n",
       "      <td>trace 96</td>\n",
       "      <td>2013-04-16 18:33:54.811000+02:00</td>\n",
       "    </tr>\n",
       "    <tr>\n",
       "      <th>576</th>\n",
       "      <td>2013-04-16 18:33:38.914000+02:00</td>\n",
       "      <td>check credit</td>\n",
       "      <td>complete</td>\n",
       "      <td>trace 97</td>\n",
       "      <td>2013-04-16 18:33:38.914000+02:00</td>\n",
       "    </tr>\n",
       "    <tr>\n",
       "      <th>582</th>\n",
       "      <td>2013-04-16 18:37:09.259000+02:00</td>\n",
       "      <td>check credit</td>\n",
       "      <td>complete</td>\n",
       "      <td>trace 98</td>\n",
       "      <td>2013-04-16 18:37:09.259000+02:00</td>\n",
       "    </tr>\n",
       "    <tr>\n",
       "      <th>587</th>\n",
       "      <td>2013-04-16 18:48:13.183000+02:00</td>\n",
       "      <td>check credit</td>\n",
       "      <td>complete</td>\n",
       "      <td>trace 99</td>\n",
       "      <td>2013-04-16 18:48:13.183000+02:00</td>\n",
       "    </tr>\n",
       "  </tbody>\n",
       "</table>\n",
       "<p>100 rows × 5 columns</p>\n",
       "</div>"
      ],
      "text/plain": [
       "                      time:timestamp  concept:name lifecycle:transition  \\\n",
       "1   2013-04-16 10:16:02.889000+02:00  check credit             complete   \n",
       "7   2013-04-16 10:16:06.994000+02:00  check credit             complete   \n",
       "13  2013-04-16 10:22:41.437000+02:00  check credit             complete   \n",
       "19  2013-04-16 10:23:07.051000+02:00  check credit             complete   \n",
       "25  2013-04-16 10:32:07.886000+02:00  check credit             complete   \n",
       "..                               ...           ...                  ...   \n",
       "564 2013-04-16 18:17:33.528000+02:00  check credit             complete   \n",
       "570 2013-04-16 18:33:54.811000+02:00  check credit             complete   \n",
       "576 2013-04-16 18:33:38.914000+02:00  check credit             complete   \n",
       "582 2013-04-16 18:37:09.259000+02:00  check credit             complete   \n",
       "587 2013-04-16 18:48:13.183000+02:00  check credit             complete   \n",
       "\n",
       "    case:concept:name                  start_timestamp  \n",
       "1             trace 0 2013-04-16 10:16:02.889000+02:00  \n",
       "7             trace 1 2013-04-16 10:16:06.994000+02:00  \n",
       "13            trace 2 2013-04-16 10:22:41.437000+02:00  \n",
       "19            trace 3 2013-04-16 10:23:07.051000+02:00  \n",
       "25            trace 4 2013-04-16 10:32:07.886000+02:00  \n",
       "..                ...                              ...  \n",
       "564          trace 95 2013-04-16 18:17:33.528000+02:00  \n",
       "570          trace 96 2013-04-16 18:33:54.811000+02:00  \n",
       "576          trace 97 2013-04-16 18:33:38.914000+02:00  \n",
       "582          trace 98 2013-04-16 18:37:09.259000+02:00  \n",
       "587          trace 99 2013-04-16 18:48:13.183000+02:00  \n",
       "\n",
       "[100 rows x 5 columns]"
      ]
     },
     "execution_count": 22,
     "metadata": {},
     "output_type": "execute_result"
    }
   ],
   "source": [
    "#get all the rows where the activity is check credit\n",
    "a = log[log['concept:name'] == 'check credit']\n",
    "a"
   ]
  },
  {
   "cell_type": "code",
   "execution_count": 23,
   "metadata": {},
   "outputs": [],
   "source": [
    "for timestamp in a['time:timestamp']:\n",
    "    pass\n",
    "    #dt = datetime.strptime(str(timestamp), \"%Y-%m-%d %H:%M:%S.%f%z\").time()\n",
    "    #print(dt)\n"
   ]
  },
  {
   "cell_type": "markdown",
   "metadata": {},
   "source": [
    "## Temporal Profile From Pm4Py"
   ]
  },
  {
   "cell_type": "markdown",
   "metadata": {},
   "source": [
    "Stertz, Florian, Jürgen Mangler, and Stefanie Rinderle-Ma. \"Temporal Conformance Checking at Runtime based on Time-infused Process Models.\" arXiv preprint arXiv:2008.07262 (2020).\n",
    "\n",
    "A temporal profile measures for every couple of activities in the log the average time and the standard deviation between events having the provided activities. The time is measured between the completion of the first event and the start of the second event. Hence, it is assumed to work with an interval log where the events have two timestamps. The output of the temporal profile discovery is a dictionary where each couple of activities (expressed as a tuple) is associated to a couple of numbers, the first is the average and the second is the average standard deviation."
   ]
  },
  {
   "cell_type": "code",
   "execution_count": 24,
   "metadata": {},
   "outputs": [],
   "source": [
    "from pm4py.algo.discovery.temporal_profile import algorithm as temporal_profile_discovery\n",
    "temporal_profile = temporal_profile_discovery.apply(log)"
   ]
  },
  {
   "cell_type": "code",
   "execution_count": 25,
   "metadata": {},
   "outputs": [
    {
     "data": {
      "text/plain": [
       "{('accept', 'send decision e-mail'): (243.7, 138.87142861010156),\n",
       " ('calculate capacity', 'accept'): (344.05, 236.71023258517215),\n",
       " ('calculate capacity', 'check credit'): (422.875, 190.7941579668668),\n",
       " ('calculate capacity', 'check system'): (285.1521739130435,\n",
       "  149.71602265493672),\n",
       " ('calculate capacity', 'reject'): (457.225, 280.5077211870818),\n",
       " ('calculate capacity', 'send decision e-mail'): (733.43, 335.88295384980273),\n",
       " ('check credit', 'accept'): (780.25, 355.3327388000688),\n",
       " ('check credit', 'calculate capacity'): (420.5108695652174,\n",
       "  274.68737453095304),\n",
       " ('check credit', 'check system'): (425.9878048780488, 229.28361292967475),\n",
       " ('check credit', 'reject'): (789.9625, 338.09872139863586),\n",
       " ('check credit', 'send decision e-mail'): (1086.87, 402.0485838022238),\n",
       " ('check system', 'accept'): (489.10526315789474, 285.0763825006364),\n",
       " ('check system', 'calculate capacity'): (342.90909090909093,\n",
       "  206.69985184475266),\n",
       " ('check system', 'check credit'): (500.875, 370.06309790165704),\n",
       " ('check system', 'reject'): (459.84507042253523, 307.490424839879),\n",
       " ('check system', 'send decision e-mail'): (765.8333333333334,\n",
       "  339.31478375088545),\n",
       " ('register application', 'accept'): (1133.9, 389.9936436728977),\n",
       " ('register application', 'calculate capacity'): (720.04, 338.67236096382004),\n",
       " ('register application', 'check credit'): (366.63, 251.67441910596165),\n",
       " ('register application', 'check system'): (711.7888888888889,\n",
       "  282.6520270836244),\n",
       " ('register application', 'reject'): (1160.4125, 338.07723983571674),\n",
       " ('register application', 'send decision e-mail'): (1453.92,\n",
       "  403.9328046928978),\n",
       " ('reject', 'send decision e-mail'): (311.9625, 172.42554392027455)}"
      ]
     },
     "execution_count": 25,
     "metadata": {},
     "output_type": "execute_result"
    }
   ],
   "source": [
    "temporal_profile"
   ]
  },
  {
   "cell_type": "code",
   "execution_count": 26,
   "metadata": {},
   "outputs": [
    {
     "data": {
      "text/html": [
       "<div>\n",
       "<style scoped>\n",
       "    .dataframe tbody tr th:only-of-type {\n",
       "        vertical-align: middle;\n",
       "    }\n",
       "\n",
       "    .dataframe tbody tr th {\n",
       "        vertical-align: top;\n",
       "    }\n",
       "\n",
       "    .dataframe thead th {\n",
       "        text-align: right;\n",
       "    }\n",
       "</style>\n",
       "<table border=\"1\" class=\"dataframe\">\n",
       "  <thead>\n",
       "    <tr style=\"text-align: right;\">\n",
       "      <th></th>\n",
       "      <th>time:timestamp</th>\n",
       "      <th>concept:name</th>\n",
       "      <th>lifecycle:transition</th>\n",
       "      <th>case:concept:name</th>\n",
       "      <th>start_timestamp</th>\n",
       "    </tr>\n",
       "  </thead>\n",
       "  <tbody>\n",
       "    <tr>\n",
       "      <th>0</th>\n",
       "      <td>2013-04-16 10:08:01.821000+02:00</td>\n",
       "      <td>register application</td>\n",
       "      <td>complete</td>\n",
       "      <td>trace 0</td>\n",
       "      <td>2013-04-16 10:08:01.821000+02:00</td>\n",
       "    </tr>\n",
       "    <tr>\n",
       "      <th>1</th>\n",
       "      <td>2013-04-16 10:16:02.889000+02:00</td>\n",
       "      <td>check credit</td>\n",
       "      <td>complete</td>\n",
       "      <td>trace 0</td>\n",
       "      <td>2013-04-16 10:16:02.889000+02:00</td>\n",
       "    </tr>\n",
       "    <tr>\n",
       "      <th>2</th>\n",
       "      <td>2013-04-16 10:16:27.858000+02:00</td>\n",
       "      <td>calculate capacity</td>\n",
       "      <td>complete</td>\n",
       "      <td>trace 0</td>\n",
       "      <td>2013-04-16 10:16:27.858000+02:00</td>\n",
       "    </tr>\n",
       "    <tr>\n",
       "      <th>3</th>\n",
       "      <td>2013-04-16 10:20:25.117000+02:00</td>\n",
       "      <td>check system</td>\n",
       "      <td>complete</td>\n",
       "      <td>trace 0</td>\n",
       "      <td>2013-04-16 10:20:25.117000+02:00</td>\n",
       "    </tr>\n",
       "    <tr>\n",
       "      <th>4</th>\n",
       "      <td>2013-04-16 10:21:29.939000+02:00</td>\n",
       "      <td>accept</td>\n",
       "      <td>complete</td>\n",
       "      <td>trace 0</td>\n",
       "      <td>2013-04-16 10:21:29.939000+02:00</td>\n",
       "    </tr>\n",
       "    <tr>\n",
       "      <th>...</th>\n",
       "      <td>...</td>\n",
       "      <td>...</td>\n",
       "      <td>...</td>\n",
       "      <td>...</td>\n",
       "      <td>...</td>\n",
       "    </tr>\n",
       "    <tr>\n",
       "      <th>585</th>\n",
       "      <td>2013-04-16 18:30:01.968000+02:00</td>\n",
       "      <td>register application</td>\n",
       "      <td>complete</td>\n",
       "      <td>trace 99</td>\n",
       "      <td>2013-04-16 18:30:01.968000+02:00</td>\n",
       "    </tr>\n",
       "    <tr>\n",
       "      <th>586</th>\n",
       "      <td>2013-04-16 18:39:07.206000+02:00</td>\n",
       "      <td>calculate capacity</td>\n",
       "      <td>complete</td>\n",
       "      <td>trace 99</td>\n",
       "      <td>2013-04-16 18:39:07.206000+02:00</td>\n",
       "    </tr>\n",
       "    <tr>\n",
       "      <th>587</th>\n",
       "      <td>2013-04-16 18:48:13.183000+02:00</td>\n",
       "      <td>check credit</td>\n",
       "      <td>complete</td>\n",
       "      <td>trace 99</td>\n",
       "      <td>2013-04-16 18:48:13.183000+02:00</td>\n",
       "    </tr>\n",
       "    <tr>\n",
       "      <th>588</th>\n",
       "      <td>2013-04-16 18:50:59.050000+02:00</td>\n",
       "      <td>reject</td>\n",
       "      <td>complete</td>\n",
       "      <td>trace 99</td>\n",
       "      <td>2013-04-16 18:50:59.050000+02:00</td>\n",
       "    </tr>\n",
       "    <tr>\n",
       "      <th>589</th>\n",
       "      <td>2013-04-16 18:55:34.247000+02:00</td>\n",
       "      <td>send decision e-mail</td>\n",
       "      <td>complete</td>\n",
       "      <td>trace 99</td>\n",
       "      <td>2013-04-16 18:55:34.247000+02:00</td>\n",
       "    </tr>\n",
       "  </tbody>\n",
       "</table>\n",
       "<p>590 rows × 5 columns</p>\n",
       "</div>"
      ],
      "text/plain": [
       "                      time:timestamp          concept:name  \\\n",
       "0   2013-04-16 10:08:01.821000+02:00  register application   \n",
       "1   2013-04-16 10:16:02.889000+02:00          check credit   \n",
       "2   2013-04-16 10:16:27.858000+02:00    calculate capacity   \n",
       "3   2013-04-16 10:20:25.117000+02:00          check system   \n",
       "4   2013-04-16 10:21:29.939000+02:00                accept   \n",
       "..                               ...                   ...   \n",
       "585 2013-04-16 18:30:01.968000+02:00  register application   \n",
       "586 2013-04-16 18:39:07.206000+02:00    calculate capacity   \n",
       "587 2013-04-16 18:48:13.183000+02:00          check credit   \n",
       "588 2013-04-16 18:50:59.050000+02:00                reject   \n",
       "589 2013-04-16 18:55:34.247000+02:00  send decision e-mail   \n",
       "\n",
       "    lifecycle:transition case:concept:name                  start_timestamp  \n",
       "0               complete           trace 0 2013-04-16 10:08:01.821000+02:00  \n",
       "1               complete           trace 0 2013-04-16 10:16:02.889000+02:00  \n",
       "2               complete           trace 0 2013-04-16 10:16:27.858000+02:00  \n",
       "3               complete           trace 0 2013-04-16 10:20:25.117000+02:00  \n",
       "4               complete           trace 0 2013-04-16 10:21:29.939000+02:00  \n",
       "..                   ...               ...                              ...  \n",
       "585             complete          trace 99 2013-04-16 18:30:01.968000+02:00  \n",
       "586             complete          trace 99 2013-04-16 18:39:07.206000+02:00  \n",
       "587             complete          trace 99 2013-04-16 18:48:13.183000+02:00  \n",
       "588             complete          trace 99 2013-04-16 18:50:59.050000+02:00  \n",
       "589             complete          trace 99 2013-04-16 18:55:34.247000+02:00  \n",
       "\n",
       "[590 rows x 5 columns]"
      ]
     },
     "execution_count": 26,
     "metadata": {},
     "output_type": "execute_result"
    }
   ],
   "source": [
    "log"
   ]
  },
  {
   "cell_type": "code",
   "execution_count": 27,
   "metadata": {},
   "outputs": [],
   "source": [
    "#log.to_csv(\"output.xlsx\")  "
   ]
  },
  {
   "cell_type": "code",
   "execution_count": 28,
   "metadata": {},
   "outputs": [
    {
     "data": {
      "text/plain": [
       "{'register application': 100}"
      ]
     },
     "execution_count": 28,
     "metadata": {},
     "output_type": "execute_result"
    }
   ],
   "source": [
    "start_activities"
   ]
  },
  {
   "cell_type": "markdown",
   "metadata": {},
   "source": [
    "## FAILED : Get absolute time of each activity from start event "
   ]
  },
  {
   "cell_type": "markdown",
   "metadata": {},
   "source": [
    "###### separates the log file based on each case name and gives a list of dataframes (dfList) based on traces "
   ]
  },
  {
   "cell_type": "code",
   "execution_count": 29,
   "metadata": {},
   "outputs": [],
   "source": [
    "#df1 = log[log['case:concept:name'] == 'trace 6']\n",
    "\n",
    "traceList = []\n",
    "\n",
    "#separates the log file based on each case name and gives a list of dataframes based on traces \n",
    "def separateLogFile():\n",
    "    traces = np.unique(log['case:concept:name'])\n",
    "    for trace in traces:\n",
    "        df1 = log[log['case:concept:name'] == trace]\n",
    "        #print(df1)\n",
    "        traceList.append(df1)\n",
    "        \n",
    "separateLogFile()"
   ]
  },
  {
   "cell_type": "code",
   "execution_count": 44,
   "metadata": {},
   "outputs": [
    {
     "data": {
      "text/html": [
       "<div>\n",
       "<style scoped>\n",
       "    .dataframe tbody tr th:only-of-type {\n",
       "        vertical-align: middle;\n",
       "    }\n",
       "\n",
       "    .dataframe tbody tr th {\n",
       "        vertical-align: top;\n",
       "    }\n",
       "\n",
       "    .dataframe thead th {\n",
       "        text-align: right;\n",
       "    }\n",
       "</style>\n",
       "<table border=\"1\" class=\"dataframe\">\n",
       "  <thead>\n",
       "    <tr style=\"text-align: right;\">\n",
       "      <th></th>\n",
       "      <th>time:timestamp</th>\n",
       "      <th>concept:name</th>\n",
       "      <th>lifecycle:transition</th>\n",
       "      <th>case:concept:name</th>\n",
       "      <th>start_timestamp</th>\n",
       "    </tr>\n",
       "  </thead>\n",
       "  <tbody>\n",
       "    <tr>\n",
       "      <th>96</th>\n",
       "      <td>2013-04-16 11:17:31.257000+02:00</td>\n",
       "      <td>register application</td>\n",
       "      <td>complete</td>\n",
       "      <td>trace 16</td>\n",
       "      <td>2013-04-16 11:17:31.257000+02:00</td>\n",
       "    </tr>\n",
       "    <tr>\n",
       "      <th>97</th>\n",
       "      <td>2013-04-16 11:23:37.875000+02:00</td>\n",
       "      <td>check credit</td>\n",
       "      <td>complete</td>\n",
       "      <td>trace 16</td>\n",
       "      <td>2013-04-16 11:23:37.875000+02:00</td>\n",
       "    </tr>\n",
       "    <tr>\n",
       "      <th>98</th>\n",
       "      <td>2013-04-16 11:28:35.492000+02:00</td>\n",
       "      <td>calculate capacity</td>\n",
       "      <td>complete</td>\n",
       "      <td>trace 16</td>\n",
       "      <td>2013-04-16 11:28:35.492000+02:00</td>\n",
       "    </tr>\n",
       "    <tr>\n",
       "      <th>99</th>\n",
       "      <td>2013-04-16 11:32:01.508000+02:00</td>\n",
       "      <td>check system</td>\n",
       "      <td>complete</td>\n",
       "      <td>trace 16</td>\n",
       "      <td>2013-04-16 11:32:01.508000+02:00</td>\n",
       "    </tr>\n",
       "    <tr>\n",
       "      <th>100</th>\n",
       "      <td>2013-04-16 11:37:03.621000+02:00</td>\n",
       "      <td>reject</td>\n",
       "      <td>complete</td>\n",
       "      <td>trace 16</td>\n",
       "      <td>2013-04-16 11:37:03.621000+02:00</td>\n",
       "    </tr>\n",
       "    <tr>\n",
       "      <th>101</th>\n",
       "      <td>2013-04-16 11:46:12.917000+02:00</td>\n",
       "      <td>send decision e-mail</td>\n",
       "      <td>complete</td>\n",
       "      <td>trace 16</td>\n",
       "      <td>2013-04-16 11:46:12.917000+02:00</td>\n",
       "    </tr>\n",
       "  </tbody>\n",
       "</table>\n",
       "</div>"
      ],
      "text/plain": [
       "                      time:timestamp          concept:name  \\\n",
       "96  2013-04-16 11:17:31.257000+02:00  register application   \n",
       "97  2013-04-16 11:23:37.875000+02:00          check credit   \n",
       "98  2013-04-16 11:28:35.492000+02:00    calculate capacity   \n",
       "99  2013-04-16 11:32:01.508000+02:00          check system   \n",
       "100 2013-04-16 11:37:03.621000+02:00                reject   \n",
       "101 2013-04-16 11:46:12.917000+02:00  send decision e-mail   \n",
       "\n",
       "    lifecycle:transition case:concept:name                  start_timestamp  \n",
       "96              complete          trace 16 2013-04-16 11:17:31.257000+02:00  \n",
       "97              complete          trace 16 2013-04-16 11:23:37.875000+02:00  \n",
       "98              complete          trace 16 2013-04-16 11:28:35.492000+02:00  \n",
       "99              complete          trace 16 2013-04-16 11:32:01.508000+02:00  \n",
       "100             complete          trace 16 2013-04-16 11:37:03.621000+02:00  \n",
       "101             complete          trace 16 2013-04-16 11:46:12.917000+02:00  "
      ]
     },
     "execution_count": 44,
     "metadata": {},
     "output_type": "execute_result"
    }
   ],
   "source": [
    "traceList[8]"
   ]
  },
  {
   "cell_type": "code",
   "execution_count": 31,
   "metadata": {},
   "outputs": [
    {
     "data": {
      "text/plain": [
       "datetime.time(18, 30, 1, 968000)"
      ]
     },
     "execution_count": 31,
     "metadata": {},
     "output_type": "execute_result"
    }
   ],
   "source": [
    "\n",
    "    #convert the value from df to datetime \n",
    "    start_dt =  datetime.strptime(start_dt_string, \"%Y-%m-%d %H:%M:%S.%f%z\")\n",
    "    start_dt_time = start_dt.time()\n",
    "    start_dt_time "
   ]
  },
  {
   "cell_type": "code",
   "execution_count": 32,
   "metadata": {},
   "outputs": [
    {
     "name": "stderr",
     "output_type": "stream",
     "text": [
      "C:\\Users\\harleenkaur\\AppData\\Local\\Temp\\ipykernel_19776\\3671067248.py:16: SettingWithCopyWarning: \n",
      "A value is trying to be set on a copy of a slice from a DataFrame.\n",
      "Try using .loc[row_indexer,col_indexer] = value instead\n",
      "\n",
      "See the caveats in the documentation: https://pandas.pydata.org/pandas-docs/stable/user_guide/indexing.html#returning-a-view-versus-a-copy\n",
      "  currentDF['initial_timestamp'] = startActivitesTimestamp\n"
     ]
    }
   ],
   "source": [
    "for currentDF in traceList:\n",
    "    start_activity =\"\"\n",
    "    for key, value in start_activities.items():\n",
    "        start_activity = key\n",
    "    \n",
    "    start_activity_row =  currentDF[currentDF['concept:name'] == start_activity]\n",
    "    start_activity_timestamp = start_activity_row['time:timestamp']\n",
    "\n",
    "    startActivitesTimestamp = []\n",
    "    \n",
    "    #appending to log\n",
    "    for index, row in currentDF.iterrows():\n",
    "        #print(row['start_timestamp'], row['concept:name'])\n",
    "        startActivitesTimestamp.append(start_activity_timestamp) \n",
    "        \n",
    "    currentDF['initial_timestamp'] = startActivitesTimestamp\n",
    "    break"
   ]
  },
  {
   "cell_type": "code",
   "execution_count": 33,
   "metadata": {},
   "outputs": [],
   "source": [
    "#traceList.drop('startActivity TimeStamp')"
   ]
  },
  {
   "cell_type": "markdown",
   "metadata": {},
   "source": [
    "# Version 2"
   ]
  },
  {
   "cell_type": "markdown",
   "metadata": {},
   "source": [
    "## Get absolute time of activities for ONE TRACE\n",
    "#### Note: still have to program for all traces"
   ]
  },
  {
   "cell_type": "markdown",
   "metadata": {},
   "source": [
    "#### Idea: \n",
    "1. split log file according to different traces. Call it df. \n",
    "2. get the start_timestamp of the start_activity \n",
    "3. Iterate through the dataframe\n",
    "\n",
    "    3.1 calculate the currentActivity's absolute time duration from step 2.\n",
    " \n",
    " 3.2 add the absolute duration as a new column in df"
   ]
  },
  {
   "cell_type": "code",
   "execution_count": 34,
   "metadata": {},
   "outputs": [],
   "source": [
    "df = log[log['case:concept:name'] == 'trace 8']"
   ]
  },
  {
   "cell_type": "code",
   "execution_count": 35,
   "metadata": {},
   "outputs": [
    {
     "data": {
      "text/html": [
       "<div>\n",
       "<style scoped>\n",
       "    .dataframe tbody tr th:only-of-type {\n",
       "        vertical-align: middle;\n",
       "    }\n",
       "\n",
       "    .dataframe tbody tr th {\n",
       "        vertical-align: top;\n",
       "    }\n",
       "\n",
       "    .dataframe thead th {\n",
       "        text-align: right;\n",
       "    }\n",
       "</style>\n",
       "<table border=\"1\" class=\"dataframe\">\n",
       "  <thead>\n",
       "    <tr style=\"text-align: right;\">\n",
       "      <th></th>\n",
       "      <th>time:timestamp</th>\n",
       "      <th>concept:name</th>\n",
       "      <th>lifecycle:transition</th>\n",
       "      <th>case:concept:name</th>\n",
       "      <th>start_timestamp</th>\n",
       "    </tr>\n",
       "  </thead>\n",
       "  <tbody>\n",
       "    <tr>\n",
       "      <th>48</th>\n",
       "      <td>2013-04-16 10:47:23.199000+02:00</td>\n",
       "      <td>register application</td>\n",
       "      <td>complete</td>\n",
       "      <td>trace 8</td>\n",
       "      <td>2013-04-16 10:47:23.199000+02:00</td>\n",
       "    </tr>\n",
       "    <tr>\n",
       "      <th>49</th>\n",
       "      <td>2013-04-16 10:51:25.512000+02:00</td>\n",
       "      <td>check credit</td>\n",
       "      <td>complete</td>\n",
       "      <td>trace 8</td>\n",
       "      <td>2013-04-16 10:51:25.512000+02:00</td>\n",
       "    </tr>\n",
       "    <tr>\n",
       "      <th>50</th>\n",
       "      <td>2013-04-16 10:52:53.923000+02:00</td>\n",
       "      <td>calculate capacity</td>\n",
       "      <td>complete</td>\n",
       "      <td>trace 8</td>\n",
       "      <td>2013-04-16 10:52:53.923000+02:00</td>\n",
       "    </tr>\n",
       "    <tr>\n",
       "      <th>51</th>\n",
       "      <td>2013-04-16 10:56:31.633000+02:00</td>\n",
       "      <td>check system</td>\n",
       "      <td>complete</td>\n",
       "      <td>trace 8</td>\n",
       "      <td>2013-04-16 10:56:31.633000+02:00</td>\n",
       "    </tr>\n",
       "    <tr>\n",
       "      <th>52</th>\n",
       "      <td>2013-04-16 11:01:17.541000+02:00</td>\n",
       "      <td>reject</td>\n",
       "      <td>complete</td>\n",
       "      <td>trace 8</td>\n",
       "      <td>2013-04-16 11:01:17.541000+02:00</td>\n",
       "    </tr>\n",
       "    <tr>\n",
       "      <th>53</th>\n",
       "      <td>2013-04-16 11:03:48.986000+02:00</td>\n",
       "      <td>send decision e-mail</td>\n",
       "      <td>complete</td>\n",
       "      <td>trace 8</td>\n",
       "      <td>2013-04-16 11:03:48.986000+02:00</td>\n",
       "    </tr>\n",
       "  </tbody>\n",
       "</table>\n",
       "</div>"
      ],
      "text/plain": [
       "                     time:timestamp          concept:name  \\\n",
       "48 2013-04-16 10:47:23.199000+02:00  register application   \n",
       "49 2013-04-16 10:51:25.512000+02:00          check credit   \n",
       "50 2013-04-16 10:52:53.923000+02:00    calculate capacity   \n",
       "51 2013-04-16 10:56:31.633000+02:00          check system   \n",
       "52 2013-04-16 11:01:17.541000+02:00                reject   \n",
       "53 2013-04-16 11:03:48.986000+02:00  send decision e-mail   \n",
       "\n",
       "   lifecycle:transition case:concept:name                  start_timestamp  \n",
       "48             complete           trace 8 2013-04-16 10:47:23.199000+02:00  \n",
       "49             complete           trace 8 2013-04-16 10:51:25.512000+02:00  \n",
       "50             complete           trace 8 2013-04-16 10:52:53.923000+02:00  \n",
       "51             complete           trace 8 2013-04-16 10:56:31.633000+02:00  \n",
       "52             complete           trace 8 2013-04-16 11:01:17.541000+02:00  \n",
       "53             complete           trace 8 2013-04-16 11:03:48.986000+02:00  "
      ]
     },
     "execution_count": 35,
     "metadata": {},
     "output_type": "execute_result"
    }
   ],
   "source": [
    "df"
   ]
  },
  {
   "cell_type": "code",
   "execution_count": 36,
   "metadata": {},
   "outputs": [],
   "source": [
    "#getting the start activity name\n",
    "start_activity =\"\"\n",
    "for key, value in start_activities.items():\n",
    "    start_activity = key\n",
    "\n",
    "#get the timestamp of this activity \n",
    "startRow = df[df['concept:name'] == start_activity]\n",
    "startTimeSeries = startRow['time:timestamp']\n",
    "\n",
    "for i in startTimeSeries:\n",
    "    startTime = i.to_pydatetime() \n"
   ]
  },
  {
   "cell_type": "code",
   "execution_count": 37,
   "metadata": {},
   "outputs": [
    {
     "name": "stdout",
     "output_type": "stream",
     "text": [
      "0:00:00\n",
      "0:04:02.313000\n",
      "0:05:30.724000\n",
      "0:09:08.434000\n",
      "0:13:54.342000\n",
      "0:16:25.787000\n"
     ]
    },
    {
     "name": "stderr",
     "output_type": "stream",
     "text": [
      "C:\\Users\\harleenkaur\\AppData\\Local\\Temp\\ipykernel_19776\\3767406400.py:6: SettingWithCopyWarning: \n",
      "A value is trying to be set on a copy of a slice from a DataFrame.\n",
      "Try using .loc[row_indexer,col_indexer] = value instead\n",
      "\n",
      "See the caveats in the documentation: https://pandas.pydata.org/pandas-docs/stable/user_guide/indexing.html#returning-a-view-versus-a-copy\n",
      "  df.loc[index, 'AbsoluteTime'] = absoluteTime\n"
     ]
    }
   ],
   "source": [
    "for index, row in df.iterrows():\n",
    "    currentTimestamp = row[\"time:timestamp\"].to_pydatetime()\n",
    "    currentConcept = row[\"concept:name\"]\n",
    "    absoluteTime = currentTimestamp - startTime\n",
    "    print(absoluteTime)\n",
    "    df.loc[index, 'AbsoluteTime'] = absoluteTime \n"
   ]
  },
  {
   "cell_type": "code",
   "execution_count": 38,
   "metadata": {},
   "outputs": [
    {
     "data": {
      "text/html": [
       "<div>\n",
       "<style scoped>\n",
       "    .dataframe tbody tr th:only-of-type {\n",
       "        vertical-align: middle;\n",
       "    }\n",
       "\n",
       "    .dataframe tbody tr th {\n",
       "        vertical-align: top;\n",
       "    }\n",
       "\n",
       "    .dataframe thead th {\n",
       "        text-align: right;\n",
       "    }\n",
       "</style>\n",
       "<table border=\"1\" class=\"dataframe\">\n",
       "  <thead>\n",
       "    <tr style=\"text-align: right;\">\n",
       "      <th></th>\n",
       "      <th>time:timestamp</th>\n",
       "      <th>concept:name</th>\n",
       "      <th>lifecycle:transition</th>\n",
       "      <th>case:concept:name</th>\n",
       "      <th>start_timestamp</th>\n",
       "      <th>AbsoluteTime</th>\n",
       "    </tr>\n",
       "  </thead>\n",
       "  <tbody>\n",
       "    <tr>\n",
       "      <th>48</th>\n",
       "      <td>2013-04-16 10:47:23.199000+02:00</td>\n",
       "      <td>register application</td>\n",
       "      <td>complete</td>\n",
       "      <td>trace 8</td>\n",
       "      <td>2013-04-16 10:47:23.199000+02:00</td>\n",
       "      <td>0 days 00:00:00</td>\n",
       "    </tr>\n",
       "    <tr>\n",
       "      <th>49</th>\n",
       "      <td>2013-04-16 10:51:25.512000+02:00</td>\n",
       "      <td>check credit</td>\n",
       "      <td>complete</td>\n",
       "      <td>trace 8</td>\n",
       "      <td>2013-04-16 10:51:25.512000+02:00</td>\n",
       "      <td>0 days 00:04:02.313000</td>\n",
       "    </tr>\n",
       "    <tr>\n",
       "      <th>50</th>\n",
       "      <td>2013-04-16 10:52:53.923000+02:00</td>\n",
       "      <td>calculate capacity</td>\n",
       "      <td>complete</td>\n",
       "      <td>trace 8</td>\n",
       "      <td>2013-04-16 10:52:53.923000+02:00</td>\n",
       "      <td>0 days 00:05:30.724000</td>\n",
       "    </tr>\n",
       "    <tr>\n",
       "      <th>51</th>\n",
       "      <td>2013-04-16 10:56:31.633000+02:00</td>\n",
       "      <td>check system</td>\n",
       "      <td>complete</td>\n",
       "      <td>trace 8</td>\n",
       "      <td>2013-04-16 10:56:31.633000+02:00</td>\n",
       "      <td>0 days 00:09:08.434000</td>\n",
       "    </tr>\n",
       "    <tr>\n",
       "      <th>52</th>\n",
       "      <td>2013-04-16 11:01:17.541000+02:00</td>\n",
       "      <td>reject</td>\n",
       "      <td>complete</td>\n",
       "      <td>trace 8</td>\n",
       "      <td>2013-04-16 11:01:17.541000+02:00</td>\n",
       "      <td>0 days 00:13:54.342000</td>\n",
       "    </tr>\n",
       "    <tr>\n",
       "      <th>53</th>\n",
       "      <td>2013-04-16 11:03:48.986000+02:00</td>\n",
       "      <td>send decision e-mail</td>\n",
       "      <td>complete</td>\n",
       "      <td>trace 8</td>\n",
       "      <td>2013-04-16 11:03:48.986000+02:00</td>\n",
       "      <td>0 days 00:16:25.787000</td>\n",
       "    </tr>\n",
       "  </tbody>\n",
       "</table>\n",
       "</div>"
      ],
      "text/plain": [
       "                     time:timestamp          concept:name  \\\n",
       "48 2013-04-16 10:47:23.199000+02:00  register application   \n",
       "49 2013-04-16 10:51:25.512000+02:00          check credit   \n",
       "50 2013-04-16 10:52:53.923000+02:00    calculate capacity   \n",
       "51 2013-04-16 10:56:31.633000+02:00          check system   \n",
       "52 2013-04-16 11:01:17.541000+02:00                reject   \n",
       "53 2013-04-16 11:03:48.986000+02:00  send decision e-mail   \n",
       "\n",
       "   lifecycle:transition case:concept:name                  start_timestamp  \\\n",
       "48             complete           trace 8 2013-04-16 10:47:23.199000+02:00   \n",
       "49             complete           trace 8 2013-04-16 10:51:25.512000+02:00   \n",
       "50             complete           trace 8 2013-04-16 10:52:53.923000+02:00   \n",
       "51             complete           trace 8 2013-04-16 10:56:31.633000+02:00   \n",
       "52             complete           trace 8 2013-04-16 11:01:17.541000+02:00   \n",
       "53             complete           trace 8 2013-04-16 11:03:48.986000+02:00   \n",
       "\n",
       "             AbsoluteTime  \n",
       "48        0 days 00:00:00  \n",
       "49 0 days 00:04:02.313000  \n",
       "50 0 days 00:05:30.724000  \n",
       "51 0 days 00:09:08.434000  \n",
       "52 0 days 00:13:54.342000  \n",
       "53 0 days 00:16:25.787000  "
      ]
     },
     "execution_count": 38,
     "metadata": {},
     "output_type": "execute_result"
    }
   ],
   "source": [
    "df"
   ]
  },
  {
   "cell_type": "markdown",
   "metadata": {},
   "source": [
    "## Get absolute time of activities for ALL TRACES"
   ]
  },
  {
   "cell_type": "markdown",
   "metadata": {},
   "source": [
    "1. Get list of unique values of all case:concept:name \n"
   ]
  },
  {
   "cell_type": "code",
   "execution_count": null,
   "metadata": {},
   "outputs": [],
   "source": [
    "#get unique values of all case:concept:name\n",
    "case_concept_name_unique_list = np.unique(log['case:concept:name'])"
   ]
  },
  {
   "cell_type": "code",
   "execution_count": 123,
   "metadata": {},
   "outputs": [],
   "source": [
    "c = 0"
   ]
  },
  {
   "cell_type": "code",
   "execution_count": 122,
   "metadata": {},
   "outputs": [],
   "source": [
    "for caseConceptName in case_concept_name_unique_list:\n",
    "    df = log[log['case:concept:name'] == caseConceptName]\n",
    "    \n",
    "    #getting the start activity name\n",
    "    start_activity =\"\"\n",
    "    for key, value in start_activities.items():\n",
    "        start_activity = key\n",
    "\n",
    "    #get the timestamp of this activity \n",
    "    startRow = df[df['concept:name'] == start_activity]\n",
    "    startTimeSeries = startRow['time:timestamp']\n",
    "\n",
    "    for i in startTimeSeries:\n",
    "        startTime = i.to_pydatetime() \n",
    "    \n",
    "    \n",
    "    for index, row in df.iterrows():\n",
    "        currentTimestamp = row[\"time:timestamp\"].to_pydatetime()\n",
    "        currentConcept = row[\"concept:name\"]\n",
    "        absoluteTime = currentTimestamp - startTime\n",
    "        #print(absoluteTime)\n",
    "        df.loc[index, 'AbsoluteTime'] = absoluteTime \n",
    "    \n",
    "    #print(df)\n",
    "    \n"
   ]
  },
  {
   "cell_type": "code",
   "execution_count": 80,
   "metadata": {},
   "outputs": [],
   "source": [
    "import warnings\n",
    "warnings.filterwarnings('ignore')"
   ]
  },
  {
   "cell_type": "code",
   "execution_count": null,
   "metadata": {},
   "outputs": [],
   "source": [
    "\n"
   ]
  },
  {
   "cell_type": "code",
   "execution_count": 15,
   "metadata": {},
   "outputs": [],
   "source": [
    "df = pd.DataFrame({'Name':list('aabeaf'),\n",
    "                   'A':[4,5,4,5,5,4],\n",
    "                   'B':[7,8,9,4,2,3],\n",
    "                   'C':[1,3,5,7,1,0]}, columns = ['Name','A','B','C'])"
   ]
  },
  {
   "cell_type": "code",
   "execution_count": 16,
   "metadata": {},
   "outputs": [
    {
     "data": {
      "text/html": [
       "<div>\n",
       "<style scoped>\n",
       "    .dataframe tbody tr th:only-of-type {\n",
       "        vertical-align: middle;\n",
       "    }\n",
       "\n",
       "    .dataframe tbody tr th {\n",
       "        vertical-align: top;\n",
       "    }\n",
       "\n",
       "    .dataframe thead th {\n",
       "        text-align: right;\n",
       "    }\n",
       "</style>\n",
       "<table border=\"1\" class=\"dataframe\">\n",
       "  <thead>\n",
       "    <tr style=\"text-align: right;\">\n",
       "      <th></th>\n",
       "      <th>Name</th>\n",
       "      <th>A</th>\n",
       "      <th>B</th>\n",
       "      <th>C</th>\n",
       "    </tr>\n",
       "  </thead>\n",
       "  <tbody>\n",
       "    <tr>\n",
       "      <th>0</th>\n",
       "      <td>a</td>\n",
       "      <td>4</td>\n",
       "      <td>7</td>\n",
       "      <td>1</td>\n",
       "    </tr>\n",
       "    <tr>\n",
       "      <th>1</th>\n",
       "      <td>a</td>\n",
       "      <td>5</td>\n",
       "      <td>8</td>\n",
       "      <td>3</td>\n",
       "    </tr>\n",
       "    <tr>\n",
       "      <th>2</th>\n",
       "      <td>b</td>\n",
       "      <td>4</td>\n",
       "      <td>9</td>\n",
       "      <td>5</td>\n",
       "    </tr>\n",
       "    <tr>\n",
       "      <th>3</th>\n",
       "      <td>e</td>\n",
       "      <td>5</td>\n",
       "      <td>4</td>\n",
       "      <td>7</td>\n",
       "    </tr>\n",
       "    <tr>\n",
       "      <th>4</th>\n",
       "      <td>a</td>\n",
       "      <td>5</td>\n",
       "      <td>2</td>\n",
       "      <td>1</td>\n",
       "    </tr>\n",
       "    <tr>\n",
       "      <th>5</th>\n",
       "      <td>f</td>\n",
       "      <td>4</td>\n",
       "      <td>3</td>\n",
       "      <td>0</td>\n",
       "    </tr>\n",
       "  </tbody>\n",
       "</table>\n",
       "</div>"
      ],
      "text/plain": [
       "  Name  A  B  C\n",
       "0    a  4  7  1\n",
       "1    a  5  8  3\n",
       "2    b  4  9  5\n",
       "3    e  5  4  7\n",
       "4    a  5  2  1\n",
       "5    f  4  3  0"
      ]
     },
     "execution_count": 16,
     "metadata": {},
     "output_type": "execute_result"
    }
   ],
   "source": [
    "df"
   ]
  },
  {
   "cell_type": "code",
   "execution_count": 21,
   "metadata": {},
   "outputs": [],
   "source": [
    "grouped = df.groupby(['Name'])"
   ]
  },
  {
   "cell_type": "code",
   "execution_count": 25,
   "metadata": {
    "scrolled": true
   },
   "outputs": [
    {
     "data": {
      "text/plain": [
       "<pandas.core.groupby.generic.DataFrameGroupBy object at 0x000002A216B53B80>"
      ]
     },
     "execution_count": 25,
     "metadata": {},
     "output_type": "execute_result"
    }
   ],
   "source": [
    "grouped"
   ]
  },
  {
   "cell_type": "code",
   "execution_count": 8,
   "metadata": {},
   "outputs": [
    {
     "data": {
      "text/plain": [
       "{'a': 2.625}"
      ]
     },
     "execution_count": 8,
     "metadata": {},
     "output_type": "execute_result"
    }
   ],
   "source": [
    "dic  ={}\n",
    "x = 2\n",
    "if 'a' in dic.keys():\n",
    "    dic['a'] = (dic['a'] + x ) / 2\n",
    "else:\n",
    "    dic['a'] = x \n",
    "    \n",
    "x = 1\n",
    "dic['a'] = (dic['a'] + x ) / 2\n",
    "\n",
    "\n",
    "x = 5\n",
    "dic['a'] = (dic['a'] + x ) / 2\n",
    "\n",
    "x = 2\n",
    "dic['a'] = (dic['a'] + x ) / 2\n",
    "\n",
    "\n",
    "\n",
    "dic\n"
   ]
  },
  {
   "cell_type": "code",
   "execution_count": 27,
   "metadata": {},
   "outputs": [
    {
     "data": {
      "text/plain": [
       "{'a': [2, 4, 6]}"
      ]
     },
     "execution_count": 27,
     "metadata": {},
     "output_type": "execute_result"
    }
   ],
   "source": [
    "dict = {}\n",
    "\n",
    "x = 2 \n",
    "if 'a' not in dict.keys():\n",
    "    dict['a'] = []\n",
    "    dict['a'].append(x)\n",
    "else:\n",
    "    dict['a'].append(x)\n",
    "\n",
    "x = 4\n",
    "if 'a' not in dict.keys():\n",
    "    dict['a'] = []\n",
    "    dict['a'].append(x)\n",
    "else:\n",
    "    dict['a'].append(x)\n",
    "    \n",
    "    \n",
    "x = 6\n",
    "if 'a' not in dict.keys():\n",
    "    dict['a'] = []\n",
    "    dict['a'].append(x)\n",
    "else:\n",
    "    dict['a'].append(x)\n",
    "    \n",
    "dict"
   ]
  },
  {
   "cell_type": "code",
   "execution_count": 19,
   "metadata": {},
   "outputs": [
    {
     "data": {
      "text/plain": [
       "{'h': 7, 'l': 7}"
      ]
     },
     "execution_count": 19,
     "metadata": {},
     "output_type": "execute_result"
    }
   ],
   "source": [
    "dict ={'h': 7, 'l':7}\n",
    "dict"
   ]
  },
  {
   "cell_type": "code",
   "execution_count": null,
   "metadata": {},
   "outputs": [],
   "source": []
  }
 ],
 "metadata": {
  "kernelspec": {
   "display_name": "Python 3 (ipykernel)",
   "language": "python",
   "name": "python3"
  },
  "language_info": {
   "codemirror_mode": {
    "name": "ipython",
    "version": 3
   },
   "file_extension": ".py",
   "mimetype": "text/x-python",
   "name": "python",
   "nbconvert_exporter": "python",
   "pygments_lexer": "ipython3",
   "version": "3.9.12"
  }
 },
 "nbformat": 4,
 "nbformat_minor": 2
}
